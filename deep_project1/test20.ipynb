{
  "nbformat": 4,
  "nbformat_minor": 0,
  "metadata": {
    "colab": {
      "provenance": []
    },
    "kernelspec": {
      "name": "python3",
      "display_name": "Python 3"
    },
    "language_info": {
      "name": "python"
    }
  },
  "cells": [
    {
      "cell_type": "code",
      "execution_count": 1,
      "metadata": {
        "id": "uxCU3qPHS4TF"
      },
      "outputs": [],
      "source": [
        "#1. soru\n",
        "import tensorflow as tf\n",
        "from tensorflow.keras import models, layers\n",
        "import os\n",
        "import numpy as np\n",
        "import matplotlib.pyplot as plt\n",
        "from sklearn.model_selection import train_test_split\n",
        "from keras.models import Sequential\n",
        "from keras.layers import Conv2D, MaxPooling2D, Flatten, Dense, BatchNormalization, Dropout\n",
        "from keras.preprocessing.image import ImageDataGenerator, load_img, img_to_array"
      ]
    },
    {
      "cell_type": "code",
      "source": [
        "dataset_path= \"/content/drive/MyDrive/deepproject/Banana\"\n",
        "dataset = tf.keras.preprocessing.image_dataset_from_directory(dataset_path)"
      ],
      "metadata": {
        "colab": {
          "base_uri": "https://localhost:8080/"
        },
        "id": "D9utGkL4TopN",
        "outputId": "f80fbca6-817f-450e-f0e2-502df69adf52"
      },
      "execution_count": 2,
      "outputs": [
        {
          "output_type": "stream",
          "name": "stdout",
          "text": [
            "Found 13498 files belonging to 4 classes.\n"
          ]
        }
      ]
    },
    {
      "cell_type": "code",
      "source": [
        "labels = dataset.class_names\n",
        "labels"
      ],
      "metadata": {
        "colab": {
          "base_uri": "https://localhost:8080/"
        },
        "id": "hbkArX_OUV-o",
        "outputId": "e0e87db4-64ae-4ae0-8d97-82d5031459dd"
      },
      "execution_count": 3,
      "outputs": [
        {
          "output_type": "execute_result",
          "data": {
            "text/plain": [
              "['overripe', 'ripe', 'rotten', 'unripe']"
            ]
          },
          "metadata": {},
          "execution_count": 3
        }
      ]
    },
    {
      "cell_type": "code",
      "source": [
        "img_size = (64, 64)"
      ],
      "metadata": {
        "id": "5caokOHFUmca"
      },
      "execution_count": 4,
      "outputs": []
    },
    {
      "cell_type": "code",
      "source": [
        "data = []\n",
        "for label in labels:\n",
        "    label_path = os.path.join(dataset_path, label)\n",
        "    for img_file in os.listdir(label_path):\n",
        "        img_path = os.path.join(label_path, img_file)      #görüntünün tam yolu\n",
        "        img = load_img(img_path, target_size=img_size)    # Görüntüyü belirlenen boyuta yüklüyoruz.\n",
        "        img_array = img_to_array(img)                    # Yüklenen görüntüyü bir diziye dönüştürüyoruz.\n",
        "        data.append((img_array, label))"
      ],
      "metadata": {
        "id": "735BNVQiUpUG"
      },
      "execution_count": 5,
      "outputs": []
    },
    {
      "cell_type": "code",
      "source": [
        "X = np.array([item[0] for item in data])\n",
        "y = np.array([labels.index(item[1]) for item in data])"
      ],
      "metadata": {
        "id": "EnzHVFXWVA8u"
      },
      "execution_count": 6,
      "outputs": []
    },
    {
      "cell_type": "code",
      "source": [
        "X_train, X_test, y_train, y_test = train_test_split(X, y, test_size=0.2, random_state=42)# Veri kümesinin yüzde 20'sini test kümesi olarak ayarlar"
      ],
      "metadata": {
        "id": "0Bv2I9TIYTY3"
      },
      "execution_count": 7,
      "outputs": []
    },
    {
      "cell_type": "code",
      "source": [
        "X_train, X_val, y_train, y_val = train_test_split(X_train, y_train, test_size=0.1, random_state=42)# Eğitim veri kümesinin %10'u doğrulama veri kümesi olarak ayrılıyor.\n"
      ],
      "metadata": {
        "id": "MOKba85FYl7L"
      },
      "execution_count": 8,
      "outputs": []
    },
    {
      "cell_type": "code",
      "source": [
        "from tensorflow.keras.optimizers import Adam\n",
        "\n",
        "def build_model(hp):\n",
        "      # Sequential modelini başlatıyoruz.\n",
        "    model = Sequential()\n",
        "\n",
        "    model.add(Conv2D(64, (3, 3), activation='relu', input_shape=(64, 64, 3)))\n",
        "    model.add(MaxPooling2D((2, 2)))\n",
        "    model.add(BatchNormalization())\n",
        "\n",
        "    model.add(Conv2D(128, (3, 3), activation='relu'))\n",
        "    model.add(MaxPooling2D((2, 2)))\n",
        "    model.add(BatchNormalization())\n",
        "\n",
        "    # Üçüncü konvolüsyonel katmanı ekliyoruz.\n",
        "    model.add(Conv2D(256, (3, 3), activation='relu'))\n",
        "    model.add(MaxPooling2D((2, 2)))\n",
        "    model.add(BatchNormalization())\n",
        "\n",
        "    # Düzleştirme katmanı.\n",
        "    model.add(Flatten())\n",
        "\n",
        "    model.add(Dense(512, activation='relu'))\n",
        "    model.add(Dropout(hp.Float('dropout_1', min_value=0.2, max_value=0.5, default=0.5)))\n",
        "    model.add(BatchNormalization())\n",
        "\n",
        "    model.add(Dense(256, activation='relu'))\n",
        "    model.add(Dropout(hp.Float('dropout_2', min_value=0.2, max_value=0.5, default=0.5)))\n",
        "    model.add(BatchNormalization())\n",
        "\n",
        "    # Çıkış katmanını ekliyoruz (4 sınıflı softmax).\n",
        "    model.add(Dense(4, activation='softmax'))\n",
        "\n",
        "    # Optimizasyon algoritmasını belirliyoruz (Adam optimizer).\n",
        "    optimizer = Adam(learning_rate=hp.Float('learning_rate', min_value=1e-4, max_value=1e-2, sampling='LOG', default=1e-3))\n",
        "\n",
        "    model.compile(optimizer=optimizer, loss='sparse_categorical_crossentropy', metrics=['accuracy'])\n",
        "\n",
        "    return model"
      ],
      "metadata": {
        "id": "xVExhFp_Y3-W"
      },
      "execution_count": 9,
      "outputs": []
    },
    {
      "cell_type": "code",
      "source": [
        "\n",
        "from tensorflow.keras.callbacks import EarlyStopping\n",
        "from kerastuner.tuners import RandomSearch\n",
        "from kerastuner.engine.hyperparameters import HyperParameters\n",
        "tuner = RandomSearch(\n",
        "    build_model,\n",
        "    objective='val_accuracy',\n",
        "    max_trials=5,\n",
        "    directory='hyperparameter_opt',\n",
        "    project_name='cnn_tuner'\n",
        ")\n",
        "\n"
      ],
      "metadata": {
        "colab": {
          "base_uri": "https://localhost:8080/"
        },
        "id": "nukcTvoSZS1m",
        "outputId": "fadb8b43-67fa-4deb-da01-c56acfab5424"
      },
      "execution_count": 22,
      "outputs": [
        {
          "output_type": "stream",
          "name": "stderr",
          "text": [
            "<ipython-input-22-029c45b281d1>:2: DeprecationWarning: `import kerastuner` is deprecated, please use `import keras_tuner`.\n",
            "  from kerastuner.tuners import RandomSearch\n"
          ]
        }
      ]
    },
    {
      "cell_type": "code",
      "source": [
        "datagen = ImageDataGenerator(\n",
        "    rotation_range=20,\n",
        "    width_shift_range=0.2,                #genel olarak görüntü arttırma parametreleri belirlenir.\n",
        "    height_shift_range=0.2,\n",
        "    horizontal_flip=True\n",
        ")"
      ],
      "metadata": {
        "id": "e_duI4YkZYYE"
      },
      "execution_count": 23,
      "outputs": []
    },
    {
      "cell_type": "code",
      "source": [
        "\n",
        "early_stopping = EarlyStopping(monitor='val_loss', patience=3, restore_best_weights=True)\n",
        "\n",
        "# Modeli eğitim verisi üzerinde, ImageDataGenerator kullanarak ve hiperparametre optimizasyonu yaparak eğitiyoruz.\n",
        "tuner.search(datagen.flow(X_train, y_train, batch_size=32), steps_per_epoch=len(X_train) / 32,\n",
        "             epochs=10, validation_data=(X_val, y_val), callbacks=[early_stopping])"
      ],
      "metadata": {
        "colab": {
          "base_uri": "https://localhost:8080/"
        },
        "id": "9MxLrxeja8IV",
        "outputId": "7449956d-8fbf-46a8-c27d-64466200c516"
      },
      "execution_count": 24,
      "outputs": [
        {
          "output_type": "stream",
          "name": "stdout",
          "text": [
            "Trial 5 Complete [00h 32m 13s]\n",
            "val_accuracy: 0.8722222447395325\n",
            "\n",
            "Best val_accuracy So Far: 0.9259259104728699\n",
            "Total elapsed time: 02h 09m 20s\n"
          ]
        }
      ]
    },
    {
      "cell_type": "code",
      "source": [
        "\n",
        "best_hps = tuner.oracle.get_best_trials(1)[0].hyperparameters\n",
        "\n",
        "print(\"En iyi hiperparametreler:\")\n",
        "for key, value in best_hps.values.items():\n",
        "    print(f\"{key}: {value}\")"
      ],
      "metadata": {
        "colab": {
          "base_uri": "https://localhost:8080/"
        },
        "id": "YEDR4ubjbE0g",
        "outputId": "a1ead2cd-4742-4f98-eb1d-a752380a1a67"
      },
      "execution_count": 25,
      "outputs": [
        {
          "output_type": "stream",
          "name": "stdout",
          "text": [
            "En iyi hiperparametreler:\n",
            "dropout_1: 0.22070191476553247\n",
            "dropout_2: 0.2969192506620009\n",
            "learning_rate: 0.007676397141103724\n"
          ]
        }
      ]
    },
    {
      "cell_type": "code",
      "source": [
        "\n",
        "best_trial = tuner.oracle.get_best_trials(1)[0]\n",
        "\n",
        "best_model = build_model(best_trial.hyperparameters)\n",
        "\n",
        "best_model.compile(optimizer=Adam(learning_rate=best_trial.hyperparameters.Float('learning_rate', min_value=1e-4, max_value=1e-2, sampling='LOG', default=1e-3)),\n",
        "                   loss='sparse_categorical_crossentropy',\n",
        "                   metrics=['accuracy'])\n",
        "\n",
        "history = best_model.fit(datagen.flow(X_train, y_train, batch_size=32),\n",
        "                         steps_per_epoch=len(X_train) / 32,\n",
        "                         epochs=10,\n",
        "                         validation_data=(X_val, y_val))\n",
        "\n",
        "evaluation = best_model.evaluate(X_test, y_test)\n",
        "print(\"Test verisi üzerinde modelin performansı:\", evaluation)"
      ],
      "metadata": {
        "colab": {
          "base_uri": "https://localhost:8080/"
        },
        "id": "ADSHNdKT5k6J",
        "outputId": "5a1c36e8-4117-4970-b37e-7b9a35bffbb7"
      },
      "execution_count": 26,
      "outputs": [
        {
          "output_type": "stream",
          "name": "stdout",
          "text": [
            "Epoch 1/10\n",
            "303/303 [==============================] - 213s 686ms/step - loss: 0.6572 - accuracy: 0.7520 - val_loss: 2.3382 - val_accuracy: 0.5222\n",
            "Epoch 2/10\n",
            "303/303 [==============================] - 208s 684ms/step - loss: 0.4546 - accuracy: 0.8243 - val_loss: 1.1164 - val_accuracy: 0.6019\n",
            "Epoch 3/10\n",
            "303/303 [==============================] - 211s 696ms/step - loss: 0.3836 - accuracy: 0.8532 - val_loss: 0.6851 - val_accuracy: 0.7657\n",
            "Epoch 4/10\n",
            "303/303 [==============================] - 206s 678ms/step - loss: 0.3356 - accuracy: 0.8760 - val_loss: 1.4630 - val_accuracy: 0.5565\n",
            "Epoch 5/10\n",
            "303/303 [==============================] - 207s 681ms/step - loss: 0.3039 - accuracy: 0.8901 - val_loss: 1.3491 - val_accuracy: 0.7204\n",
            "Epoch 6/10\n",
            "303/303 [==============================] - 207s 682ms/step - loss: 0.2842 - accuracy: 0.9005 - val_loss: 1.3723 - val_accuracy: 0.6676\n",
            "Epoch 7/10\n",
            "303/303 [==============================] - 203s 668ms/step - loss: 0.2866 - accuracy: 0.8958 - val_loss: 0.1938 - val_accuracy: 0.9398\n",
            "Epoch 8/10\n",
            "303/303 [==============================] - 208s 686ms/step - loss: 0.2460 - accuracy: 0.9137 - val_loss: 1.5785 - val_accuracy: 0.5370\n",
            "Epoch 9/10\n",
            "303/303 [==============================] - 209s 688ms/step - loss: 0.2468 - accuracy: 0.9121 - val_loss: 0.3576 - val_accuracy: 0.8389\n",
            "Epoch 10/10\n",
            "303/303 [==============================] - 207s 681ms/step - loss: 0.2335 - accuracy: 0.9177 - val_loss: 0.4587 - val_accuracy: 0.8213\n",
            "85/85 [==============================] - 13s 152ms/step - loss: 0.4417 - accuracy: 0.8178\n",
            "Test verisi üzerinde modelin performansı: [0.44174447655677795, 0.8177777528762817]\n"
          ]
        }
      ]
    },
    {
      "cell_type": "code",
      "source": [
        "import itertools\n",
        "\n",
        "def plot_confusion_matrix(cm, classes, normalize=True, title='Confusion matrix', cmap=plt.cm.Reds):\n",
        "    \"\"\"\n",
        "    This function prints and plots the confusion matrix.\n",
        "    Normalization can be applied by setting `normalize=True`.\n",
        "    \"\"\"\n",
        "    plt.figure(figsize=(10,10))\n",
        "    plt.imshow(cm, interpolation='nearest', cmap=cmap)\n",
        "    plt.title(title)\n",
        "    plt.colorbar()\n",
        "    tick_marks = np.arange(len(classes))\n",
        "    plt.xticks(tick_marks, classes, rotation=45)\n",
        "    plt.yticks(tick_marks, classes)\n",
        "    if normalize:\n",
        "        cm = cm.astype('float') / cm.sum(axis=1)[:, np.newaxis]\n",
        "        cm = np.around(cm, decimals=2)\n",
        "        cm[np.isnan(cm)] = 0.0\n",
        "    thresh = cm.max() / 2.\n",
        "    for i, j in itertools.product(range(cm.shape[0]), range(cm.shape[1])):\n",
        "        plt.text(j, i, cm[i, j],\n",
        "                 horizontalalignment=\"center\",\n",
        "                 color=\"white\" if cm[i, j] > thresh else \"black\")\n",
        "    plt.tight_layout()\n",
        "    plt.ylabel('True label')\n",
        "    plt.xlabel('Predicted label')"
      ],
      "metadata": {
        "id": "McRP7pMl5uok"
      },
      "execution_count": 27,
      "outputs": []
    },
    {
      "cell_type": "code",
      "source": [
        "from sklearn.metrics import accuracy_score, precision_score, recall_score, f1_score, confusion_matrix, classification_report\n",
        "import seaborn as sns\n",
        "\n",
        "y_pred_probs = best_model.predict(X_test)\n",
        "y_pred = np.argmax(y_pred_probs, axis=1)\n",
        "accuracy = accuracy_score(y_test, y_pred)\n",
        "print(f'Test Accuracy: {accuracy:.4f}')\n",
        "precision = precision_score(y_test, y_pred, average='weighted')\n",
        "print(f'Precision: {precision:.4f}')\n",
        "recall = recall_score(y_test, y_pred, average='weighted')\n",
        "print(f'Recall: {recall:.4f}')\n",
        "f1 = f1_score(y_test, y_pred, average='weighted')\n",
        "print(f'F1 Score: {f1:.4f}')\n",
        "conf_matrix = confusion_matrix(y_test, y_pred)\n",
        "print('Confusion Matrix:')\n",
        "plt.figure(figsize=(8, 6))\n",
        "sns.heatmap(conf_matrix, annot=True, fmt='d', cmap='Blues', xticklabels=labels, yticklabels=labels)\n",
        "plt.title('Confusion Matrix')\n",
        "plt.xlabel('Predicted')\n",
        "plt.ylabel('True')\n",
        "plt.show()\n",
        "class_report = classification_report(y_test, y_pred, target_names=labels)\n",
        "print('Classification Report:'+ class_report)\n"
      ],
      "metadata": {
        "colab": {
          "base_uri": "https://localhost:8080/",
          "height": 859
        },
        "id": "Cv1nHsAiDfnw",
        "outputId": "59836f0c-4ab4-47aa-da03-764433d97a30"
      },
      "execution_count": 28,
      "outputs": [
        {
          "output_type": "stream",
          "name": "stdout",
          "text": [
            "85/85 [==============================] - 16s 187ms/step\n",
            "Test Accuracy: 0.8178\n",
            "Precision: 0.8716\n",
            "Recall: 0.8178\n",
            "F1 Score: 0.8185\n",
            "Confusion Matrix:\n"
          ]
        },
        {
          "output_type": "display_data",
          "data": {
            "text/plain": [
              "<Figure size 800x600 with 2 Axes>"
            ],
            "image/png": "[encoded data removed]"
          },
          "metadata": {}
        },
        {
          "output_type": "stream",
          "name": "stdout",
          "text": [
            "Classification Report:              precision    recall  f1-score   support\n",
            "\n",
            "    overripe       0.98      0.58      0.73       549\n",
            "        ripe       0.97      0.81      0.88       799\n",
            "      rotten       0.66      0.99      0.79       925\n",
            "      unripe       0.99      0.75      0.86       427\n",
            "\n",
            "    accuracy                           0.82      2700\n",
            "   macro avg       0.90      0.79      0.82      2700\n",
            "weighted avg       0.87      0.82      0.82      2700\n",
            "\n"
          ]
        }
      ]
    },
    {
      "cell_type": "code",
      "source": [
        "#2. soru\n",
        "from tensorflow.keras.applications import MobileNetV2\n",
        "base_model = MobileNetV2(weights='imagenet', include_top=False, input_shape=(64, 64, 3))\n"
      ],
      "metadata": {
        "colab": {
          "base_uri": "https://localhost:8080/"
        },
        "id": "sAcbfXzLDmDt",
        "outputId": "b8e71061-31fe-4d98-9a03-fe5604b8ff3d"
      },
      "execution_count": 29,
      "outputs": [
        {
          "output_type": "stream",
          "name": "stderr",
          "text": [
            "WARNING:tensorflow:`input_shape` is undefined or non-square, or `rows` is not in [96, 128, 160, 192, 224]. Weights for input shape (224, 224) will be loaded as the default.\n"
          ]
        },
        {
          "output_type": "stream",
          "name": "stdout",
          "text": [
            "Downloading data from https://storage.googleapis.com/tensorflow/keras-applications/mobilenet_v2/mobilenet_v2_weights_tf_dim_ordering_tf_kernels_1.0_224_no_top.h5\n",
            "9406464/9406464 [==============================] - 0s 0us/step\n"
          ]
        }
      ]
    },
    {
      "cell_type": "code",
      "source": [
        "model = Sequential()\n",
        "model.add(base_model)\n",
        "model.add(Flatten())\n",
        "model.add(Dense(256, activation='relu'))\n",
        "model.add(Dense(4, activation='softmax'))"
      ],
      "metadata": {
        "id": "2yBMQRiBD70B"
      },
      "execution_count": 30,
      "outputs": []
    },
    {
      "cell_type": "code",
      "source": [
        "for layer in base_model.layers:\n",
        "    layer.trainable = False # transfer learning) yöntemiyle bir önceden eğitilmiş bir modelin (base_model) katmanlarını dondurmayı amaçlar."
      ],
      "metadata": {
        "id": "0RJLVWknEAR6"
      },
      "execution_count": 31,
      "outputs": []
    },
    {
      "cell_type": "code",
      "source": [
        "model.compile(optimizer='adam', loss='sparse_categorical_crossentropy', metrics=['accuracy'])"
      ],
      "metadata": {
        "id": "1sG9DfiPEPoo"
      },
      "execution_count": 32,
      "outputs": []
    },
    {
      "cell_type": "code",
      "source": [
        "datagen = ImageDataGenerator(\n",
        "    rotation_range=20,\n",
        "    width_shift_range=0.2,      #genel olarak görüntü veri arttırma\n",
        "    height_shift_range=0.2,\n",
        "    horizontal_flip=True\n",
        ")"
      ],
      "metadata": {
        "id": "C0NohZxBETLP"
      },
      "execution_count": 33,
      "outputs": []
    },
    {
      "cell_type": "code",
      "source": [
        "history = model.fit(datagen.flow(X_train, y_train, batch_size=32),\n",
        "                    steps_per_epoch=len(X_train) / 32, epochs=10, validation_data=(X_val, y_val))"
      ],
      "metadata": {
        "colab": {
          "base_uri": "https://localhost:8080/"
        },
        "id": "F7v7s-RFEfcm",
        "outputId": "be28ae63-fa62-4dc8-911e-95ffef7973e1"
      },
      "execution_count": 34,
      "outputs": [
        {
          "output_type": "stream",
          "name": "stdout",
          "text": [
            "Epoch 1/10\n",
            "303/303 [==============================] - 48s 142ms/step - loss: 1.1087 - accuracy: 0.5754 - val_loss: 0.8768 - val_accuracy: 0.6426\n",
            "Epoch 2/10\n",
            "303/303 [==============================] - 47s 154ms/step - loss: 0.8723 - accuracy: 0.6488 - val_loss: 0.8442 - val_accuracy: 0.6713\n",
            "Epoch 3/10\n",
            "303/303 [==============================] - 44s 144ms/step - loss: 0.8349 - accuracy: 0.6622 - val_loss: 0.8892 - val_accuracy: 0.6574\n",
            "Epoch 4/10\n",
            "303/303 [==============================] - 44s 146ms/step - loss: 0.8182 - accuracy: 0.6738 - val_loss: 0.8044 - val_accuracy: 0.6898\n",
            "Epoch 5/10\n",
            "303/303 [==============================] - 44s 146ms/step - loss: 0.7966 - accuracy: 0.6764 - val_loss: 0.8351 - val_accuracy: 0.6565\n",
            "Epoch 6/10\n",
            "303/303 [==============================] - 44s 144ms/step - loss: 0.7922 - accuracy: 0.6819 - val_loss: 0.8767 - val_accuracy: 0.6657\n",
            "Epoch 7/10\n",
            "303/303 [==============================] - 43s 141ms/step - loss: 0.7674 - accuracy: 0.6910 - val_loss: 0.8102 - val_accuracy: 0.6843\n",
            "Epoch 8/10\n",
            "303/303 [==============================] - 45s 148ms/step - loss: 0.7530 - accuracy: 0.7032 - val_loss: 0.8041 - val_accuracy: 0.6806\n",
            "Epoch 9/10\n",
            "303/303 [==============================] - 43s 142ms/step - loss: 0.7565 - accuracy: 0.6889 - val_loss: 0.7527 - val_accuracy: 0.7056\n",
            "Epoch 10/10\n",
            "303/303 [==============================] - 43s 141ms/step - loss: 0.7441 - accuracy: 0.7020 - val_loss: 0.7000 - val_accuracy: 0.7213\n"
          ]
        }
      ]
    },
    {
      "cell_type": "code",
      "source": [
        "import itertools\n",
        "def plot_confusion_matrix(cm, classes, normalize=True, title='Confusion matrix', cmap=plt.cm.Reds):\n",
        "    \"\"\"\n",
        "    This function prints and plots the confusion matrix.\n",
        "    Normalization can be applied by setting `normalize=True`.\n",
        "    \"\"\"\n",
        "    plt.figure(figsize=(10,10))\n",
        "    plt.imshow(cm, interpolation='nearest', cmap=cmap)\n",
        "    plt.title(title)\n",
        "    plt.colorbar()\n",
        "    tick_marks = np.arange(len(classes))\n",
        "    plt.xticks(tick_marks, classes, rotation=45)\n",
        "    plt.yticks(tick_marks, classes)\n",
        "    if normalize:\n",
        "        cm = cm.astype('float') / cm.sum(axis=1)[:, np.newaxis]\n",
        "        cm = np.around(cm, decimals=2)\n",
        "        cm[np.isnan(cm)] = 0.0\n",
        "    thresh = cm.max() / 2.\n",
        "    for i, j in itertools.product(range(cm.shape[0]), range(cm.shape[1])):\n",
        "        plt.text(j, i, cm[i, j],\n",
        "                 horizontalalignment=\"center\",\n",
        "                 color=\"white\" if cm[i, j] > thresh else \"black\")\n",
        "    plt.tight_layout()\n",
        "    plt.ylabel('True label')\n",
        "    plt.xlabel('Predicted label')"
      ],
      "metadata": {
        "id": "6NgKitOKEmOJ"
      },
      "execution_count": 35,
      "outputs": []
    },
    {
      "cell_type": "code",
      "source": [
        "from sklearn.metrics import accuracy_score, precision_score, recall_score, f1_score, confusion_matrix, classification_report\n",
        "import seaborn as sns\n",
        "y_pred_probs = model.predict(X_test)\n",
        "y_pred = np.argmax(y_pred_probs, axis=1)\n",
        "accuracy = accuracy_score(y_test, y_pred)\n",
        "print(f'Test Accuracy: {accuracy:.4f}')\n",
        "precision = precision_score(y_test, y_pred, average='weighted')\n",
        "recall = recall_score(y_test, y_pred, average='weighted')\n",
        "f1 = f1_score(y_test, y_pred, average='weighted')\n",
        "\n",
        "print(f'Precision: {precision:.4f}')\n",
        "print(f'Recall: {recall:.4f}')\n",
        "print(f'F1 Score: {f1:.4f}')\n",
        "conf_matrix = confusion_matrix(y_test, y_pred)\n",
        "print('Confusion Matrix:')\n",
        "plt.figure(figsize=(8, 6))\n",
        "sns.heatmap(conf_matrix, annot=True, fmt='d', cmap='Blues', xticklabels=labels, yticklabels=labels)\n",
        "plt.title('Confusion Matrix')\n",
        "plt.xlabel('Predicted')\n",
        "plt.ylabel('True')\n",
        "plt.show()\n",
        "class_report = classification_report(y_test, y_pred, target_names=labels)\n",
        "print('Classification Report:')\n",
        "print(class_report)"
      ],
      "metadata": {
        "colab": {
          "base_uri": "https://localhost:8080/",
          "height": 876
        },
        "id": "BvOnpaELHFcm",
        "outputId": "6e56c70f-268d-405c-a46a-8df06c74aa53"
      },
      "execution_count": 36,
      "outputs": [
        {
          "output_type": "stream",
          "name": "stdout",
          "text": [
            "85/85 [==============================] - 10s 97ms/step\n",
            "Test Accuracy: 0.7189\n",
            "Precision: 0.7218\n",
            "Recall: 0.7189\n",
            "F1 Score: 0.7197\n",
            "Confusion Matrix:\n"
          ]
        },
        {
          "output_type": "display_data",
          "data": {
            "text/plain": [
              "<Figure size 800x600 with 2 Axes>"
            ],
            "image/png": "[encoded data removed]"
          },
          "metadata": {}
        },
        {
          "output_type": "stream",
          "name": "stdout",
          "text": [
            "Classification Report:\n",
            "              precision    recall  f1-score   support\n",
            "\n",
            "    overripe       0.74      0.72      0.73       549\n",
            "        ripe       0.65      0.71      0.68       799\n",
            "      rotten       0.76      0.73      0.75       925\n",
            "      unripe       0.75      0.70      0.72       427\n",
            "\n",
            "    accuracy                           0.72      2700\n",
            "   macro avg       0.73      0.72      0.72      2700\n",
            "weighted avg       0.72      0.72      0.72      2700\n",
            "\n"
          ]
        }
      ]
    },
    {
      "cell_type": "code",
      "source": [
        "#3.soru\n",
        "from keras.applications.efficientnet import EfficientNetB0\n",
        "\n",
        "base_model = EfficientNetB0(weights='imagenet', include_top=False, input_shape=(64, 64, 3))"
      ],
      "metadata": {
        "colab": {
          "base_uri": "https://localhost:8080/"
        },
        "id": "QkuEtPTlHIiP",
        "outputId": "59ff35da-0a75-4399-eecb-6292864d8ef8"
      },
      "execution_count": 37,
      "outputs": [
        {
          "output_type": "stream",
          "name": "stdout",
          "text": [
            "Downloading data from https://storage.googleapis.com/keras-applications/efficientnetb0_notop.h5\n",
            "16705208/16705208 [==============================] - 0s 0us/step\n"
          ]
        }
      ]
    },
    {
      "cell_type": "code",
      "source": [
        "model = Sequential()\n",
        "model.add(base_model)\n",
        "model.add(Flatten())\n",
        "model.add(Dense(256, activation='relu'))\n",
        "model.add(Dense(4, activation='softmax'))"
      ],
      "metadata": {
        "id": "tIKHV5yGHVc7"
      },
      "execution_count": 38,
      "outputs": []
    },
    {
      "cell_type": "code",
      "source": [
        "model.compile(optimizer='adam',\n",
        "              loss='categorical_crossentropy',\n",
        "              metrics=['accuracy'])"
      ],
      "metadata": {
        "id": "f9IVpxhAHZ5z"
      },
      "execution_count": 39,
      "outputs": []
    },
    {
      "cell_type": "code",
      "source": [
        "from tensorflow.keras.utils import to_categorical\n",
        "y_train_encoded = to_categorical(y_train, num_classes=4)\n",
        "y_val_encoded = to_categorical(y_val, num_classes=4)"
      ],
      "metadata": {
        "id": "0PhQAurIHePP"
      },
      "execution_count": 40,
      "outputs": []
    },
    {
      "cell_type": "code",
      "source": [
        "history = model.fit(datagen.flow(X_train, y_train_encoded, batch_size=32),\n",
        "                    steps_per_epoch=len(X_train) / 32, epochs=10, validation_data=(X_val, y_val_encoded))"
      ],
      "metadata": {
        "colab": {
          "base_uri": "https://localhost:8080/"
        },
        "id": "6ovyRvgyHgtx",
        "outputId": "cfbe968f-e455-4469-a8e5-eb95c3d760fa"
      },
      "execution_count": 41,
      "outputs": [
        {
          "output_type": "stream",
          "name": "stdout",
          "text": [
            "Epoch 1/10\n",
            "303/303 [==============================] - 275s 810ms/step - loss: 0.3646 - accuracy: 0.8876 - val_loss: 0.2188 - val_accuracy: 0.9296\n",
            "Epoch 2/10\n",
            "303/303 [==============================] - 252s 830ms/step - loss: 0.1838 - accuracy: 0.9398 - val_loss: 0.2275 - val_accuracy: 0.9380\n",
            "Epoch 3/10\n",
            "303/303 [==============================] - 250s 823ms/step - loss: 0.1473 - accuracy: 0.9541 - val_loss: 0.1320 - val_accuracy: 0.9509\n",
            "Epoch 4/10\n",
            "303/303 [==============================] - 250s 823ms/step - loss: 0.1292 - accuracy: 0.9602 - val_loss: 0.1260 - val_accuracy: 0.9611\n",
            "Epoch 5/10\n",
            "303/303 [==============================] - 244s 803ms/step - loss: 0.1122 - accuracy: 0.9629 - val_loss: 0.1598 - val_accuracy: 0.9602\n",
            "Epoch 6/10\n",
            "303/303 [==============================] - 247s 813ms/step - loss: 0.1162 - accuracy: 0.9629 - val_loss: 0.0987 - val_accuracy: 0.9704\n",
            "Epoch 7/10\n",
            "303/303 [==============================] - 241s 794ms/step - loss: 0.0973 - accuracy: 0.9668 - val_loss: 0.0834 - val_accuracy: 0.9778\n",
            "Epoch 8/10\n",
            "303/303 [==============================] - 243s 800ms/step - loss: 0.0894 - accuracy: 0.9747 - val_loss: 0.0566 - val_accuracy: 0.9787\n",
            "Epoch 9/10\n",
            "303/303 [==============================] - 246s 811ms/step - loss: 0.0804 - accuracy: 0.9742 - val_loss: 0.0972 - val_accuracy: 0.9731\n",
            "Epoch 10/10\n",
            "303/303 [==============================] - 243s 800ms/step - loss: 0.0954 - accuracy: 0.9701 - val_loss: 0.0567 - val_accuracy: 0.9870\n"
          ]
        }
      ]
    },
    {
      "cell_type": "code",
      "source": [
        "import itertools\n",
        "def plot_confusion_matrix(cm, classes, normalize=True, title='Confusion matrix', cmap=plt.cm.Reds):\n",
        "    \"\"\"\n",
        "    This function prints and plots the confusion matrix.\n",
        "    Normalization can be applied by setting `normalize=True`.\n",
        "    \"\"\"\n",
        "    plt.figure(figsize=(10,10))\n",
        "    plt.imshow(cm, interpolation='nearest', cmap=cmap)\n",
        "    plt.title(title)\n",
        "    plt.colorbar()\n",
        "    tick_marks = np.arange(len(classes))\n",
        "    plt.xticks(tick_marks, classes, rotation=45)\n",
        "    plt.yticks(tick_marks, classes)\n",
        "    if normalize:\n",
        "        cm = cm.astype('float') / cm.sum(axis=1)[:, np.newaxis]\n",
        "        cm = np.around(cm, decimals=2)\n",
        "        cm[np.isnan(cm)] = 0.0\n",
        "    thresh = cm.max() / 2.\n",
        "    for i, j in itertools.product(range(cm.shape[0]), range(cm.shape[1])):\n",
        "        plt.text(j, i, cm[i, j],\n",
        "                 horizontalalignment=\"center\",\n",
        "                 color=\"white\" if cm[i, j] > thresh else \"black\")\n",
        "    plt.tight_layout()\n",
        "    plt.ylabel('True label')\n",
        "    plt.xlabel('Predicted label')"
      ],
      "metadata": {
        "id": "Vs7Vga45Hkyb"
      },
      "execution_count": 42,
      "outputs": []
    },
    {
      "cell_type": "code",
      "source": [
        "from sklearn.metrics import accuracy_score, precision_score, recall_score, f1_score, confusion_matrix, classification_report\n",
        "import seaborn as sns\n",
        "y_pred_probs = model.predict(X_test)\n",
        "y_pred = np.argmax(y_pred_probs, axis=1)\n",
        "accuracy = accuracy_score(y_test, y_pred)\n",
        "print(f'Test Accuracy: {accuracy:.4f}')\n",
        "precision = precision_score(y_test, y_pred, average='weighted')\n",
        "recall = recall_score(y_test, y_pred, average='weighted')\n",
        "f1 = f1_score(y_test, y_pred, average='weighted')\n",
        "\n",
        "print(f'Precision: {precision:.4f}')\n",
        "print(f'Recall: {recall:.4f}')\n",
        "print(f'F1 Score: {f1:.4f}')\n",
        "conf_matrix = confusion_matrix(y_test, y_pred)\n",
        "print('Confusion Matrix:')\n",
        "plt.figure(figsize=(8, 6))\n",
        "sns.heatmap(conf_matrix, annot=True, fmt='d', cmap='Blues', xticklabels=labels, yticklabels=labels)\n",
        "plt.title('Confusion Matrix')\n",
        "plt.xlabel('Predicted')\n",
        "plt.ylabel('True')\n",
        "plt.show()\n",
        "class_report = classification_report(y_test, y_pred, target_names=labels)\n",
        "print('Classification Report:')\n",
        "print(class_report)"
      ],
      "metadata": {
        "colab": {
          "base_uri": "https://localhost:8080/",
          "height": 876
        },
        "id": "vdSGQw4zRbmb",
        "outputId": "c77e0ba0-7f75-4a5f-9860-bc95329d00ad"
      },
      "execution_count": 43,
      "outputs": [
        {
          "output_type": "stream",
          "name": "stdout",
          "text": [
            "85/85 [==============================] - 19s 187ms/step\n",
            "Test Accuracy: 0.9807\n",
            "Precision: 0.9808\n",
            "Recall: 0.9807\n",
            "F1 Score: 0.9808\n",
            "Confusion Matrix:\n"
          ]
        },
        {
          "output_type": "display_data",
          "data": {
            "text/plain": [
              "<Figure size 800x600 with 2 Axes>"
            ],
            "image/png": "[encoded data removed]"
          },
          "metadata": {}
        },
        {
          "output_type": "stream",
          "name": "stdout",
          "text": [
            "Classification Report:\n",
            "              precision    recall  f1-score   support\n",
            "\n",
            "    overripe       0.97      0.97      0.97       549\n",
            "        ripe       0.97      0.98      0.98       799\n",
            "      rotten       0.99      0.98      0.98       925\n",
            "      unripe       0.99      0.99      0.99       427\n",
            "\n",
            "    accuracy                           0.98      2700\n",
            "   macro avg       0.98      0.98      0.98      2700\n",
            "weighted avg       0.98      0.98      0.98      2700\n",
            "\n"
          ]
        }
      ]
    },
    {
      "cell_type": "code",
      "source": [],
      "metadata": {
        "id": "n0peuVrjRe5f"
      },
      "execution_count": null,
      "outputs": []
    }
  ]
}