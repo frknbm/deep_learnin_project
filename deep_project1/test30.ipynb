{
  "nbformat": 4,
  "nbformat_minor": 0,
  "metadata": {
    "colab": {
      "provenance": []
    },
    "kernelspec": {
      "name": "python3",
      "display_name": "Python 3"
    },
    "language_info": {
      "name": "python"
    }
  },
  "cells": [
    {
      "cell_type": "code",
      "execution_count": 1,
      "metadata": {
        "id": "MNUuJdSeokNI"
      },
      "outputs": [],
      "source": [
        "#soru1\n",
        "import tensorflow as tf\n",
        "from tensorflow.keras import models, layers\n",
        "import os\n",
        "import numpy as np\n",
        "import matplotlib.pyplot as plt\n",
        "from sklearn.model_selection import train_test_split\n",
        "from keras.models import Sequential\n",
        "from keras.layers import Conv2D, MaxPooling2D, Flatten, Dense, BatchNormalization, Dropout\n",
        "from keras.preprocessing.image import ImageDataGenerator, load_img, img_to_array"
      ]
    },
    {
      "cell_type": "code",
      "source": [
        "dataset_path = \"/content/drive/MyDrive/deepproject/Banana\"\n",
        "dataset = tf.keras.preprocessing.image_dataset_from_directory(dataset_path)\n"
      ],
      "metadata": {
        "colab": {
          "base_uri": "https://localhost:8080/"
        },
        "id": "M9JJHrVgt77B",
        "outputId": "01db4ba5-6854-420e-c9a6-66e541922ae1"
      },
      "execution_count": 2,
      "outputs": [
        {
          "output_type": "stream",
          "name": "stdout",
          "text": [
            "Found 13498 files belonging to 4 classes.\n"
          ]
        }
      ]
    },
    {
      "cell_type": "code",
      "source": [
        "labels = dataset.class_names\n",
        "labels"
      ],
      "metadata": {
        "colab": {
          "base_uri": "https://localhost:8080/"
        },
        "id": "HkO1_U8xYpK4",
        "outputId": "c496572f-4979-45de-cf3a-651b3f89abf0"
      },
      "execution_count": 3,
      "outputs": [
        {
          "output_type": "execute_result",
          "data": {
            "text/plain": [
              "['overripe', 'ripe', 'rotten', 'unripe']"
            ]
          },
          "metadata": {},
          "execution_count": 3
        }
      ]
    },
    {
      "cell_type": "code",
      "source": [
        "img_size = (64, 64) #görüntülerin boyutlarını belirler"
      ],
      "metadata": {
        "id": "SSXEzziJj53H"
      },
      "execution_count": 4,
      "outputs": []
    },
    {
      "cell_type": "code",
      "source": [
        "data = []\n",
        "for label in labels:\n",
        "    label_path = os.path.join(dataset_path, label)\n",
        "    for img_file in os.listdir(label_path):\n",
        "        img_path = os.path.join(label_path, img_file)         #görüntünün tam yolu\n",
        "        img = load_img(img_path, target_size=img_size)        # Görüntüyü belirlenen boyuta yüklüyoruz.\n",
        "        img_array = img_to_array(img)                         # Yüklenen görüntüyü bir diziye dönüştürüyoruz.\n",
        "        data.append((img_array, label))"
      ],
      "metadata": {
        "id": "ejQbQZ2RB3Eh"
      },
      "execution_count": 5,
      "outputs": []
    },
    {
      "cell_type": "code",
      "source": [
        "X = np.array([item[0] for item in data])# Görüntülerin bulunduğu liste üzerinden bir Numpy dizisi oluşturuyoruz (X).\n",
        "y = np.array([labels.index(item[1]) for item in data])# Her bir görüntünün etiketini içeren indekslerden oluşan bir Numpy dizisi oluşturuyoruz (y).\n"
      ],
      "metadata": {
        "id": "NMdOQSgqCseA"
      },
      "execution_count": 6,
      "outputs": []
    },
    {
      "cell_type": "code",
      "source": [
        "X_train, X_test, y_train, y_test = train_test_split(X, y, test_size=0.3, random_state=42)#  Veri setinin %30'u test setine ayrılacak."
      ],
      "metadata": {
        "id": "Gxx1MTpuFGPN"
      },
      "execution_count": 7,
      "outputs": []
    },
    {
      "cell_type": "code",
      "source": [
        "X_train, X_val, y_train, y_val = train_test_split(X_train, y_train, test_size=0.1, random_state=42)#  Eğitim setinin %10'u kadar bir bölümü doğrulama seti olarak ayrılacak."
      ],
      "metadata": {
        "id": "YM43bbqAF0DA"
      },
      "execution_count": 8,
      "outputs": []
    },
    {
      "cell_type": "code",
      "source": [
        "from tensorflow.keras.optimizers import Adam\n",
        "\n",
        "def build_model(hp):\n",
        "    # Sequential modelini başlatıyoruz.\n",
        "    model = Sequential()\n",
        "\n",
        "    # İlk konvolüsyonel katmanı ekliyoruz.\n",
        "    model.add(Conv2D(64, (3, 3), activation='relu', input_shape=(64, 64, 3)))\n",
        "    model.add(MaxPooling2D((2, 2)))\n",
        "    model.add(BatchNormalization())\n",
        "\n",
        "    # İkinci konvolüsyonel katmanı ekliyoruz.\n",
        "    model.add(Conv2D(128, (3, 3), activation='relu'))\n",
        "    model.add(MaxPooling2D((2, 2)))\n",
        "    model.add(BatchNormalization())\n",
        "\n",
        "    # Üçüncü konvolüsyonel katmanı ekliyoruz.\n",
        "    model.add(Conv2D(256, (3, 3), activation='relu'))\n",
        "    model.add(MaxPooling2D((2, 2)))\n",
        "    model.add(BatchNormalization())\n",
        "\n",
        "    # Düzleştirme katmanı.\n",
        "    model.add(Flatten())\n",
        "\n",
        "    # Tam bağlantılı (dense) katmanları ekliyoruz.\n",
        "    model.add(Dense(512, activation='relu'))\n",
        "    model.add(Dropout(hp.Float('dropout_1', min_value=0.2, max_value=0.5, default=0.5)))\n",
        "    model.add(BatchNormalization())\n",
        "\n",
        "    model.add(Dense(256, activation='relu'))\n",
        "    model.add(Dropout(hp.Float('dropout_2', min_value=0.2, max_value=0.5, default=0.5)))\n",
        "    model.add(BatchNormalization())\n",
        "\n",
        "    # Çıkış katmanını ekliyoruz (4 sınıflı softmax).\n",
        "    model.add(Dense(4, activation='softmax'))\n",
        "\n",
        "    # Optimizasyon algoritmasını belirliyoruz (Adam optimizer).\n",
        "    optimizer = Adam(learning_rate=hp.Float('learning_rate', min_value=1e-4, max_value=1e-2, sampling='LOG', default=1e-3))\n",
        "\n",
        "    # Modeli derliyoruz.\n",
        "    model.compile(optimizer=optimizer, loss='sparse_categorical_crossentropy', metrics=['accuracy'])\n",
        "\n",
        "    return model"
      ],
      "metadata": {
        "id": "i8xp_tPXGJaR"
      },
      "execution_count": 9,
      "outputs": []
    },
    {
      "cell_type": "code",
      "source": [
        "\n",
        "from tensorflow.keras.callbacks import EarlyStopping\n",
        "from kerastuner.tuners import RandomSearch\n",
        "from kerastuner.engine.hyperparameters import HyperParameters\n",
        "tuner = RandomSearch(\n",
        "    build_model,\n",
        "    objective='val_accuracy',\n",
        "    max_trials=5,\n",
        "    directory='hyperparameter_opt',\n",
        "    project_name='cnn_tuner'\n",
        ")"
      ],
      "metadata": {
        "colab": {
          "base_uri": "https://localhost:8080/"
        },
        "id": "7L5BzutjJktT",
        "outputId": "7ed5184f-9ba9-4169-f585-1cb57a7c9c0b"
      },
      "execution_count": 13,
      "outputs": [
        {
          "output_type": "stream",
          "name": "stderr",
          "text": [
            "<ipython-input-13-e7f514a7f82f>:2: DeprecationWarning: `import kerastuner` is deprecated, please use `import keras_tuner`.\n",
            "  from kerastuner.tuners import RandomSearch\n"
          ]
        }
      ]
    },
    {
      "cell_type": "code",
      "source": [
        "datagen = ImageDataGenerator(\n",
        "    rotation_range=20,\n",
        "    width_shift_range=0.2,         #genel olarak görüntü arttırma parametreleri belirlenir.\n",
        "    height_shift_range=0.2,\n",
        "    horizontal_flip=True\n",
        ")"
      ],
      "metadata": {
        "id": "KaPKZlrnLnQp"
      },
      "execution_count": 14,
      "outputs": []
    },
    {
      "cell_type": "code",
      "source": [
        "\n",
        "early_stopping = EarlyStopping(monitor='val_loss', patience=3, restore_best_weights=True)\n",
        "\n",
        "# Modeli eğitim verisi üzerinde, ImageDataGenerator kullanarak ve hiperparametre optimizasyonu yaparak eğitiyoruz.\n",
        "tuner.search(datagen.flow(X_train, y_train, batch_size=32), steps_per_epoch=len(X_train) / 32,\n",
        "             epochs=10, validation_data=(X_val, y_val), callbacks=[early_stopping])"
      ],
      "metadata": {
        "colab": {
          "base_uri": "https://localhost:8080/"
        },
        "id": "GbT0FHgNMoth",
        "outputId": "1cbfb22d-2d0e-4ee3-a5f4-80e97253d586"
      },
      "execution_count": 15,
      "outputs": [
        {
          "output_type": "stream",
          "name": "stdout",
          "text": [
            "Trial 5 Complete [00h 34m 40s]\n",
            "val_accuracy: 0.9227513074874878\n",
            "\n",
            "Best val_accuracy So Far: 0.9248677492141724\n",
            "Total elapsed time: 02h 43m 13s\n"
          ]
        }
      ]
    },
    {
      "cell_type": "code",
      "source": [
        "best_hps = tuner.oracle.get_best_trials(1)[0].hyperparameters\n",
        "\n",
        "print(\"En iyi hiperparametreler:\")\n",
        "for key, value in best_hps.values.items():\n",
        "    print(f\"{key}: {value}\")"
      ],
      "metadata": {
        "colab": {
          "base_uri": "https://localhost:8080/"
        },
        "id": "pQMaque9NIbB",
        "outputId": "8f9a27aa-0e2b-4b8a-d912-d9cfba81eccc"
      },
      "execution_count": 16,
      "outputs": [
        {
          "output_type": "stream",
          "name": "stdout",
          "text": [
            "En iyi hiperparametreler:\n",
            "dropout_1: 0.2575943056991683\n",
            "dropout_2: 0.3551305804294791\n",
            "learning_rate: 0.00027737916414514253\n"
          ]
        }
      ]
    },
    {
      "cell_type": "code",
      "source": [
        "best_trial = tuner.oracle.get_best_trials(1)[0]\n",
        "\n",
        "best_model = build_model(best_trial.hyperparameters)\n",
        "\n",
        "best_model.compile(optimizer=Adam(learning_rate=best_trial.hyperparameters.Float('learning_rate', min_value=1e-4, max_value=1e-2, sampling='LOG', default=1e-3)),\n",
        "                   loss='sparse_categorical_crossentropy',\n",
        "                   metrics=['accuracy'])\n",
        "\n",
        "history = best_model.fit(datagen.flow(X_train, y_train, batch_size=32),\n",
        "                         steps_per_epoch=len(X_train) / 32,\n",
        "                         epochs=10,\n",
        "                         validation_data=(X_val, y_val))\n",
        "\n",
        "evaluation = best_model.evaluate(X_test, y_test)\n",
        "print(\"Test verisi üzerinde modelin performansı:\", evaluation)"
      ],
      "metadata": {
        "colab": {
          "base_uri": "https://localhost:8080/"
        },
        "id": "3_RNfyaqytaE",
        "outputId": "c113307c-45f1-428b-895c-b0270b0f676a"
      },
      "execution_count": 17,
      "outputs": [
        {
          "output_type": "stream",
          "name": "stdout",
          "text": [
            "Epoch 1/10\n",
            "265/265 [==============================] - 216s 802ms/step - loss: 0.6779 - accuracy: 0.7494 - val_loss: 0.5733 - val_accuracy: 0.8286\n",
            "Epoch 2/10\n",
            "265/265 [==============================] - 207s 780ms/step - loss: 0.4380 - accuracy: 0.8389 - val_loss: 0.7199 - val_accuracy: 0.7630\n",
            "Epoch 3/10\n",
            "265/265 [==============================] - 207s 778ms/step - loss: 0.3873 - accuracy: 0.8613 - val_loss: 0.5546 - val_accuracy: 0.7746\n",
            "Epoch 4/10\n",
            "265/265 [==============================] - 206s 776ms/step - loss: 0.3502 - accuracy: 0.8745 - val_loss: 0.3890 - val_accuracy: 0.8423\n",
            "Epoch 5/10\n",
            "265/265 [==============================] - 205s 772ms/step - loss: 0.3128 - accuracy: 0.8832 - val_loss: 0.8727 - val_accuracy: 0.7566\n",
            "Epoch 6/10\n",
            "265/265 [==============================] - 212s 796ms/step - loss: 0.2890 - accuracy: 0.8945 - val_loss: 0.4559 - val_accuracy: 0.8423\n",
            "Epoch 7/10\n",
            "265/265 [==============================] - 210s 789ms/step - loss: 0.2730 - accuracy: 0.9009 - val_loss: 0.2884 - val_accuracy: 0.8963\n",
            "Epoch 8/10\n",
            "265/265 [==============================] - 206s 774ms/step - loss: 0.2648 - accuracy: 0.9040 - val_loss: 0.2430 - val_accuracy: 0.9259\n",
            "Epoch 9/10\n",
            "265/265 [==============================] - 208s 784ms/step - loss: 0.2549 - accuracy: 0.9097 - val_loss: 0.1875 - val_accuracy: 0.9312\n",
            "Epoch 10/10\n",
            "265/265 [==============================] - 212s 797ms/step - loss: 0.2380 - accuracy: 0.9133 - val_loss: 1.3500 - val_accuracy: 0.6984\n",
            "127/127 [==============================] - 24s 189ms/step - loss: 1.3892 - accuracy: 0.7146\n",
            "Test verisi üzerinde modelin performansı: [1.3891819715499878, 0.7145678997039795]\n"
          ]
        }
      ]
    },
    {
      "cell_type": "code",
      "source": [
        "import itertools\n",
        "\n",
        "def plot_confusion_matrix(cm, classes, normalize=True, title='Confusion matrix', cmap=plt.cm.Reds):\n",
        "    \"\"\"\n",
        "    This function prints and plots the confusion matrix.\n",
        "    Normalization can be applied by setting `normalize=True`.\n",
        "    \"\"\"\n",
        "    plt.figure(figsize=(10,10))\n",
        "    plt.imshow(cm, interpolation='nearest', cmap=cmap)\n",
        "    plt.title(title)\n",
        "    plt.colorbar()\n",
        "    tick_marks = np.arange(len(classes))\n",
        "    plt.xticks(tick_marks, classes, rotation=45)\n",
        "    plt.yticks(tick_marks, classes)\n",
        "    if normalize:\n",
        "        cm = cm.astype('float') / cm.sum(axis=1)[:, np.newaxis]\n",
        "        cm = np.around(cm, decimals=2)\n",
        "        cm[np.isnan(cm)] = 0.0\n",
        "    thresh = cm.max() / 2.\n",
        "    for i, j in itertools.product(range(cm.shape[0]), range(cm.shape[1])):\n",
        "        plt.text(j, i, cm[i, j],\n",
        "                 horizontalalignment=\"center\",\n",
        "                 color=\"white\" if cm[i, j] > thresh else \"black\")\n",
        "    plt.tight_layout()\n",
        "    plt.ylabel('True label')\n",
        "    plt.xlabel('Predicted label')"
      ],
      "metadata": {
        "id": "83nVEY9Qyzbi"
      },
      "execution_count": 18,
      "outputs": []
    },
    {
      "cell_type": "code",
      "source": [
        "from sklearn.metrics import accuracy_score, precision_score, recall_score, f1_score, confusion_matrix, classification_report\n",
        "import seaborn as sns\n",
        "y_pred_probs = best_model.predict(X_test) #model tahmini\n",
        "y_pred = np.argmax(y_pred_probs, axis=1) # model tahmini\n",
        "#doğruluk\n",
        "accuracy = accuracy_score(y_test, y_pred)\n",
        "print(f'Test Accuracy: {accuracy:.4f}')\n",
        "\n",
        "#Precision, Recall ve F1 Score Hesaplama:\n",
        "precision = precision_score(y_test, y_pred, average='weighted')\n",
        "print(f'Precision: {precision:.4f}')\n",
        "recall = recall_score(y_test, y_pred, average='weighted')\n",
        "print(f'Recall: {recall:.4f}')\n",
        "f1 = f1_score(y_test, y_pred, average='weighted')\n",
        "print(f'F1 Score: {f1:.4f}')\n",
        "\n",
        "#Confusionmatrixi  Görselleştirme:\n",
        "conf_matrix = confusion_matrix(y_test, y_pred)\n",
        "print('Confusion Matrix:')\n",
        "plt.figure(figsize=(8, 6))\n",
        "sns.heatmap(conf_matrix, annot=True, fmt='d', cmap='Blues', xticklabels=labels, yticklabels=labels)\n",
        "plt.title('Confusion Matrix')\n",
        "plt.xlabel('Predicted')\n",
        "plt.ylabel('True')\n",
        "plt.show()\n",
        "\n",
        "#Sınıflandırma Raporu Yazdırma:\n",
        "class_report = classification_report(y_test, y_pred, target_names=labels)\n",
        "print('Classification Report:'+ class_report)\n"
      ],
      "metadata": {
        "colab": {
          "base_uri": "https://localhost:8080/",
          "height": 859
        },
        "id": "CfnxY4_O8sQn",
        "outputId": "c86ec586-8857-40b1-b6ae-f67275291ce6"
      },
      "execution_count": 19,
      "outputs": [
        {
          "output_type": "stream",
          "name": "stdout",
          "text": [
            "127/127 [==============================] - 28s 213ms/step\n",
            "Test Accuracy: 0.7146\n",
            "Precision: 0.8251\n",
            "Recall: 0.7146\n",
            "F1 Score: 0.7283\n",
            "Confusion Matrix:\n"
          ]
        },
        {
          "output_type": "display_data",
          "data": {
            "text/plain": [
              "<Figure size 800x600 with 2 Axes>"
            ],
            "image/png": "[encoded data removed]"
          },
          "metadata": {}
        },
        {
          "output_type": "stream",
          "name": "stdout",
          "text": [
            "Classification Report:              precision    recall  f1-score   support\n",
            "\n",
            "    overripe       0.46      0.98      0.62       827\n",
            "        ripe       0.98      0.57      0.72      1200\n",
            "      rotten       0.83      0.65      0.73      1387\n",
            "      unripe       0.98      0.80      0.88       636\n",
            "\n",
            "    accuracy                           0.71      4050\n",
            "   macro avg       0.82      0.75      0.74      4050\n",
            "weighted avg       0.83      0.71      0.73      4050\n",
            "\n"
          ]
        }
      ]
    },
    {
      "cell_type": "code",
      "source": [
        "#soru2\n",
        "from tensorflow.keras.applications import MobileNetV2\n",
        "base_model = MobileNetV2(weights='imagenet', include_top=False, input_shape=(64, 64, 3))"
      ],
      "metadata": {
        "colab": {
          "base_uri": "https://localhost:8080/"
        },
        "id": "etSKVTce9lbE",
        "outputId": "5f729bda-8e0e-4a7e-886d-fc511ee0172c"
      },
      "execution_count": 21,
      "outputs": [
        {
          "output_type": "stream",
          "name": "stderr",
          "text": [
            "WARNING:tensorflow:`input_shape` is undefined or non-square, or `rows` is not in [96, 128, 160, 192, 224]. Weights for input shape (224, 224) will be loaded as the default.\n"
          ]
        },
        {
          "output_type": "stream",
          "name": "stdout",
          "text": [
            "Downloading data from https://storage.googleapis.com/tensorflow/keras-applications/mobilenet_v2/mobilenet_v2_weights_tf_dim_ordering_tf_kernels_1.0_224_no_top.h5\n",
            "9406464/9406464 [==============================] - 1s 0us/step\n"
          ]
        }
      ]
    },
    {
      "cell_type": "code",
      "source": [
        "model = Sequential()\n",
        "model.add(base_model)\n",
        "model.add(Flatten())\n",
        "model.add(Dense(256, activation='relu'))\n",
        "model.add(Dense(4, activation='softmax'))"
      ],
      "metadata": {
        "id": "BKUKyj8S-A_L"
      },
      "execution_count": 22,
      "outputs": []
    },
    {
      "cell_type": "code",
      "source": [
        "for layer in base_model.layers:\n",
        "    layer.trainable = False"
      ],
      "metadata": {
        "id": "JMpLsdql-K8F"
      },
      "execution_count": 23,
      "outputs": []
    },
    {
      "cell_type": "code",
      "source": [
        "model.compile(optimizer='adam', loss='sparse_categorical_crossentropy', metrics=['accuracy'])"
      ],
      "metadata": {
        "id": "hcao_mlA-OBh"
      },
      "execution_count": 24,
      "outputs": []
    },
    {
      "cell_type": "code",
      "source": [
        "datagen = ImageDataGenerator(\n",
        "    rotation_range=20,\n",
        "    width_shift_range=0.2,\n",
        "    height_shift_range=0.2,\n",
        "    horizontal_flip=True\n",
        ")"
      ],
      "metadata": {
        "id": "jaYRe8cx-SbM"
      },
      "execution_count": 25,
      "outputs": []
    },
    {
      "cell_type": "code",
      "source": [
        "history = model.fit(datagen.flow(X_train, y_train, batch_size=32),\n",
        "                    steps_per_epoch=len(X_train) / 32, epochs=10, validation_data=(X_val, y_val))"
      ],
      "metadata": {
        "colab": {
          "base_uri": "https://localhost:8080/"
        },
        "id": "0JLaktH4-UrS",
        "outputId": "f52d5bba-dc02-44cb-f4dc-b062c59b29d5"
      },
      "execution_count": 26,
      "outputs": [
        {
          "output_type": "stream",
          "name": "stdout",
          "text": [
            "Epoch 1/10\n",
            "265/265 [==============================] - 51s 173ms/step - loss: 1.1621 - accuracy: 0.5642 - val_loss: 0.9427 - val_accuracy: 0.6180\n",
            "Epoch 2/10\n",
            "265/265 [==============================] - 42s 157ms/step - loss: 0.8828 - accuracy: 0.6391 - val_loss: 0.9079 - val_accuracy: 0.6307\n",
            "Epoch 3/10\n",
            "265/265 [==============================] - 44s 166ms/step - loss: 0.8437 - accuracy: 0.6566 - val_loss: 0.8254 - val_accuracy: 0.6751\n",
            "Epoch 4/10\n",
            "265/265 [==============================] - 45s 168ms/step - loss: 0.8201 - accuracy: 0.6698 - val_loss: 0.8281 - val_accuracy: 0.6677\n",
            "Epoch 5/10\n",
            "265/265 [==============================] - 45s 169ms/step - loss: 0.8132 - accuracy: 0.6719 - val_loss: 0.8178 - val_accuracy: 0.6730\n",
            "Epoch 6/10\n",
            "265/265 [==============================] - 42s 157ms/step - loss: 0.7963 - accuracy: 0.6785 - val_loss: 0.8213 - val_accuracy: 0.6656\n",
            "Epoch 7/10\n",
            "265/265 [==============================] - 45s 169ms/step - loss: 0.7820 - accuracy: 0.6843 - val_loss: 0.8010 - val_accuracy: 0.6836\n",
            "Epoch 8/10\n",
            "265/265 [==============================] - 42s 156ms/step - loss: 0.7738 - accuracy: 0.6845 - val_loss: 0.7778 - val_accuracy: 0.6910\n",
            "Epoch 9/10\n",
            "265/265 [==============================] - 46s 172ms/step - loss: 0.7782 - accuracy: 0.6865 - val_loss: 0.7772 - val_accuracy: 0.6931\n",
            "Epoch 10/10\n",
            "265/265 [==============================] - 44s 165ms/step - loss: 0.7502 - accuracy: 0.6979 - val_loss: 0.7837 - val_accuracy: 0.6921\n"
          ]
        }
      ]
    },
    {
      "cell_type": "code",
      "source": [
        "import itertools\n",
        "def plot_confusion_matrix(cm, classes, normalize=True, title='Confusion matrix', cmap=plt.cm.Reds):\n",
        "    \"\"\"\n",
        "    This function prints and plots the confusion matrix.\n",
        "    Normalization can be applied by setting `normalize=True`.\n",
        "    \"\"\"\n",
        "    plt.figure(figsize=(10,10))\n",
        "    plt.imshow(cm, interpolation='nearest', cmap=cmap)\n",
        "    plt.title(title)\n",
        "    plt.colorbar()\n",
        "    tick_marks = np.arange(len(classes))\n",
        "    plt.xticks(tick_marks, classes, rotation=45)\n",
        "    plt.yticks(tick_marks, classes)\n",
        "    if normalize:\n",
        "        cm = cm.astype('float') / cm.sum(axis=1)[:, np.newaxis]\n",
        "        cm = np.around(cm, decimals=2)\n",
        "        cm[np.isnan(cm)] = 0.0\n",
        "    thresh = cm.max() / 2.\n",
        "    for i, j in itertools.product(range(cm.shape[0]), range(cm.shape[1])):\n",
        "        plt.text(j, i, cm[i, j],\n",
        "                 horizontalalignment=\"center\",\n",
        "                 color=\"white\" if cm[i, j] > thresh else \"black\")\n",
        "    plt.tight_layout()\n",
        "    plt.ylabel('True label')\n",
        "    plt.xlabel('Predicted label')"
      ],
      "metadata": {
        "id": "nd1CH_41-kQG"
      },
      "execution_count": 27,
      "outputs": []
    },
    {
      "cell_type": "code",
      "source": [
        "# Gerekli kütüphanelerin import edilmesi\n",
        "from sklearn.metrics import accuracy_score, precision_score, recall_score, f1_score, confusion_matrix, classification_report\n",
        "import seaborn as sns\n",
        "# Modelin test verisi üzerinde tahmin yapması\n",
        "y_pred_probs = model.predict(X_test)\n",
        "y_pred = np.argmax(y_pred_probs, axis=1)\n",
        "# Doğruluk (Accuracy) metriğinin hesaplanması ve ekrana yazdırılması\n",
        "accuracy = accuracy_score(y_test, y_pred)\n",
        "print(f'Test Accuracy: {accuracy:.4f}')\n",
        "# Precision, Recall,F1 Score,confusion   metriğinin hesaplanması ve ekrana yazdırılması\n",
        "precision = precision_score(y_test, y_pred, average='weighted')\n",
        "recall = recall_score(y_test, y_pred, average='weighted')\n",
        "f1 = f1_score(y_test, y_pred, average='weighted')\n",
        "print(f'Precision: {precision:.4f}')\n",
        "print(f'Recall: {recall:.4f}')\n",
        "print(f'F1 Score: {f1:.4f}')\n",
        "conf_matrix = confusion_matrix(y_test, y_pred)\n",
        "print('Confusion Matrix:')\n",
        "plt.figure(figsize=(8, 6))\n",
        "sns.heatmap(conf_matrix, annot=True, fmt='d', cmap='Blues', xticklabels=labels, yticklabels=labels)\n",
        "plt.title('Confusion Matrix')\n",
        "plt.xlabel('Predicted')\n",
        "plt.ylabel('True')\n",
        "plt.show()\n",
        "# Sınıflandırma Raporunun hesaplanması ve ekrana yazdırılması\n",
        "class_report = classification_report(y_test, y_pred, target_names=labels)\n",
        "print('Classification Report:')\n",
        "print(class_report)"
      ],
      "metadata": {
        "colab": {
          "base_uri": "https://localhost:8080/",
          "height": 876
        },
        "id": "OuY0vI0tA9Y4",
        "outputId": "c15a96c5-b83f-42e2-f5d6-27d02bc9bba7"
      },
      "execution_count": 28,
      "outputs": [
        {
          "output_type": "stream",
          "name": "stdout",
          "text": [
            "127/127 [==============================] - 17s 119ms/step\n",
            "Test Accuracy: 0.7037\n",
            "Precision: 0.7253\n",
            "Recall: 0.7037\n",
            "F1 Score: 0.6998\n",
            "Confusion Matrix:\n"
          ]
        },
        {
          "output_type": "display_data",
          "data": {
            "text/plain": [
              "<Figure size 800x600 with 2 Axes>"
            ],
            "image/png": "[encoded data removed]"
          },
          "metadata": {}
        },
        {
          "output_type": "stream",
          "name": "stdout",
          "text": [
            "Classification Report:\n",
            "              precision    recall  f1-score   support\n",
            "\n",
            "    overripe       0.80      0.55      0.65       827\n",
            "        ripe       0.62      0.72      0.67      1200\n",
            "      rotten       0.69      0.85      0.77      1387\n",
            "      unripe       0.89      0.56      0.69       636\n",
            "\n",
            "    accuracy                           0.70      4050\n",
            "   macro avg       0.75      0.67      0.69      4050\n",
            "weighted avg       0.73      0.70      0.70      4050\n",
            "\n"
          ]
        }
      ]
    },
    {
      "cell_type": "code",
      "source": [
        "#3. soru\n",
        "from keras.applications.efficientnet import EfficientNetB0\n",
        "base_model = EfficientNetB0(weights='imagenet', include_top=False, input_shape=(64, 64, 3))"
      ],
      "metadata": {
        "colab": {
          "base_uri": "https://localhost:8080/"
        },
        "id": "6cJRzxqCBn_J",
        "outputId": "5f07efaf-3667-407d-efe5-a48886c3aaed"
      },
      "execution_count": 29,
      "outputs": [
        {
          "output_type": "stream",
          "name": "stdout",
          "text": [
            "Downloading data from https://storage.googleapis.com/keras-applications/efficientnetb0_notop.h5\n",
            "16705208/16705208 [==============================] - 1s 0us/step\n"
          ]
        }
      ]
    },
    {
      "cell_type": "code",
      "source": [
        "model = Sequential()\n",
        "model.add(base_model)\n",
        "model.add(Flatten())\n",
        "model.add(Dense(256, activation='relu'))\n",
        "model.add(Dense(4, activation='softmax'))"
      ],
      "metadata": {
        "id": "6X_Yi4avELzp"
      },
      "execution_count": 30,
      "outputs": []
    },
    {
      "cell_type": "code",
      "source": [
        "# Modelin derlenmesi (compile) işlemi\n",
        "model.compile(optimizer='adam',\n",
        "              loss='categorical_crossentropy',\n",
        "              metrics=['accuracy'])"
      ],
      "metadata": {
        "id": "4O7VgqI-ER7j"
      },
      "execution_count": 31,
      "outputs": []
    },
    {
      "cell_type": "code",
      "source": [
        "from tensorflow.keras.utils import to_categorical\n",
        "y_train_encoded = to_categorical(y_train, num_classes=4)\n",
        "y_val_encoded = to_categorical(y_val, num_classes=4)"
      ],
      "metadata": {
        "id": "lmmVxOpREgZA"
      },
      "execution_count": 32,
      "outputs": []
    },
    {
      "cell_type": "code",
      "source": [
        "history = model.fit(datagen.flow(X_train, y_train_encoded, batch_size=32),\n",
        "                    steps_per_epoch=len(X_train) / 32, epochs=10, validation_data=(X_val, y_val_encoded))"
      ],
      "metadata": {
        "colab": {
          "base_uri": "https://localhost:8080/"
        },
        "id": "CSsGnof4EkDL",
        "outputId": "a47b2e48-4445-486e-d5d0-317fbd10e5b3"
      },
      "execution_count": 33,
      "outputs": [
        {
          "output_type": "stream",
          "name": "stdout",
          "text": [
            "Epoch 1/10\n",
            "265/265 [==============================] - 280s 941ms/step - loss: 0.3853 - accuracy: 0.8784 - val_loss: 0.2412 - val_accuracy: 0.9354\n",
            "Epoch 2/10\n",
            "265/265 [==============================] - 241s 906ms/step - loss: 0.1867 - accuracy: 0.9414 - val_loss: 0.3214 - val_accuracy: 0.9090\n",
            "Epoch 3/10\n",
            "265/265 [==============================] - 247s 930ms/step - loss: 0.1546 - accuracy: 0.9515 - val_loss: 0.1411 - val_accuracy: 0.9503\n",
            "Epoch 4/10\n",
            "265/265 [==============================] - 239s 898ms/step - loss: 0.1218 - accuracy: 0.9573 - val_loss: 0.1516 - val_accuracy: 0.9492\n",
            "Epoch 5/10\n",
            "265/265 [==============================] - 263s 991ms/step - loss: 0.1273 - accuracy: 0.9586 - val_loss: 0.1823 - val_accuracy: 0.9460\n",
            "Epoch 6/10\n",
            "265/265 [==============================] - 245s 924ms/step - loss: 0.1015 - accuracy: 0.9684 - val_loss: 0.1969 - val_accuracy: 0.9545\n",
            "Epoch 7/10\n",
            "265/265 [==============================] - 244s 920ms/step - loss: 0.0996 - accuracy: 0.9661 - val_loss: 0.1331 - val_accuracy: 0.9725\n",
            "Epoch 8/10\n",
            "265/265 [==============================] - 244s 920ms/step - loss: 0.0934 - accuracy: 0.9695 - val_loss: 0.0857 - val_accuracy: 0.9714\n",
            "Epoch 9/10\n",
            "265/265 [==============================] - 243s 914ms/step - loss: 0.0965 - accuracy: 0.9677 - val_loss: 0.1397 - val_accuracy: 0.9577\n",
            "Epoch 10/10\n",
            "265/265 [==============================] - 245s 923ms/step - loss: 0.0870 - accuracy: 0.9730 - val_loss: 0.1134 - val_accuracy: 0.9651\n"
          ]
        }
      ]
    },
    {
      "cell_type": "code",
      "source": [
        " import itertools\n",
        "def plot_confusion_matrix(cm, classes, normalize=True, title='Confusion matrix', cmap=plt.cm.Reds):\n",
        "    \"\"\"\n",
        "    This function prints and plots the confusion matrix.\n",
        "    Normalization can be applied by setting `normalize=True`.\n",
        "    \"\"\"\n",
        "    plt.figure(figsize=(10,10))\n",
        "    plt.imshow(cm, interpolation='nearest', cmap=cmap)\n",
        "    plt.title(title)\n",
        "    plt.colorbar()\n",
        "    tick_marks = np.arange(len(classes))\n",
        "    plt.xticks(tick_marks, classes, rotation=45)\n",
        "    plt.yticks(tick_marks, classes)\n",
        "    if normalize:\n",
        "        cm = cm.astype('float') / cm.sum(axis=1)[:, np.newaxis]\n",
        "        cm = np.around(cm, decimals=2)\n",
        "        cm[np.isnan(cm)] = 0.0\n",
        "    thresh = cm.max() / 2.\n",
        "    for i, j in itertools.product(range(cm.shape[0]), range(cm.shape[1])):\n",
        "        plt.text(j, i, cm[i, j],\n",
        "                 horizontalalignment=\"center\",\n",
        "                 color=\"white\" if cm[i, j] > thresh else \"black\")\n",
        "    plt.tight_layout()\n",
        "    plt.ylabel('True label')\n",
        "    plt.xlabel('Predicted label')"
      ],
      "metadata": {
        "id": "BivTLxVaEo8o"
      },
      "execution_count": 34,
      "outputs": []
    },
    {
      "cell_type": "code",
      "source": [
        "from sklearn.metrics import accuracy_score, precision_score, recall_score, f1_score, confusion_matrix, classification_report\n",
        "import seaborn as sns\n",
        "# Modelin test verisi üzerinde tahmin yapması\n",
        "y_pred_probs = model.predict(X_test)\n",
        "y_pred = np.argmax(y_pred_probs, axis=1)\n",
        "# Doğruluk (Accuracy) metriğinin hesaplanması ve ekrana yazdırılması\n",
        "accuracy = accuracy_score(y_test, y_pred)\n",
        "print(f'Test Accuracy: {accuracy:.4f}')\n",
        "# Precision,f1 score , recall, confusion matrix metriğinin hesaplanması ve ekrana yazdırılması\n",
        "precision = precision_score(y_test, y_pred, average='weighted')\n",
        "recall = recall_score(y_test, y_pred, average='weighted')\n",
        "f1 = f1_score(y_test, y_pred, average='weighted')\n",
        "print(f'Precision: {precision:.4f}')\n",
        "print(f'Recall: {recall:.4f}')\n",
        "print(f'F1 Score: {f1:.4f}')\n",
        "conf_matrix = confusion_matrix(y_test, y_pred)\n",
        "print('Confusion Matrix:')\n",
        "plt.figure(figsize=(8, 6))\n",
        "sns.heatmap(conf_matrix, annot=True, fmt='d', cmap='Blues', xticklabels=labels, yticklabels=labels)\n",
        "plt.title('Confusion Matrix')\n",
        "plt.xlabel('Predicted')\n",
        "plt.ylabel('True')\n",
        "plt.show()\n",
        "# Sınıflandırma Raporunun hesaplanması ve ekrana yazdırılması\n",
        "class_report = classification_report(y_test, y_pred, target_names=labels)\n",
        "print('Classification Report:')\n",
        "print(class_report)"
      ],
      "metadata": {
        "colab": {
          "base_uri": "https://localhost:8080/",
          "height": 876
        },
        "id": "dKxUFUKbO5Zs",
        "outputId": "815f63f7-18d0-4f36-9816-e2d53feddeca"
      },
      "execution_count": 35,
      "outputs": [
        {
          "output_type": "stream",
          "name": "stdout",
          "text": [
            "127/127 [==============================] - 26s 184ms/step\n",
            "Test Accuracy: 0.9691\n",
            "Precision: 0.9693\n",
            "Recall: 0.9691\n",
            "F1 Score: 0.9691\n",
            "Confusion Matrix:\n"
          ]
        },
        {
          "output_type": "display_data",
          "data": {
            "text/plain": [
              "<Figure size 800x600 with 2 Axes>"
            ],
            "image/png": "[encoded data removed]"
          },
          "metadata": {}
        },
        {
          "output_type": "stream",
          "name": "stdout",
          "text": [
            "Classification Report:\n",
            "              precision    recall  f1-score   support\n",
            "\n",
            "    overripe       0.97      0.96      0.96       827\n",
            "        ripe       0.96      0.98      0.97      1200\n",
            "      rotten       0.97      0.95      0.96      1387\n",
            "      unripe       0.98      1.00      0.99       636\n",
            "\n",
            "    accuracy                           0.97      4050\n",
            "   macro avg       0.97      0.97      0.97      4050\n",
            "weighted avg       0.97      0.97      0.97      4050\n",
            "\n"
          ]
        }
      ]
    },
    {
      "cell_type": "code",
      "source": [],
      "metadata": {
        "id": "GkAOtePwPYpC"
      },
      "execution_count": null,
      "outputs": []
    }
  ]
}